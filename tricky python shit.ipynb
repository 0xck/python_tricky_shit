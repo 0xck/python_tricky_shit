{
 "cells": [
  {
   "cell_type": "markdown",
   "id": "852a798e-d992-47cc-80e8-4d6f63fe8fdb",
   "metadata": {},
   "source": [
    "# Tricky python shit"
   ]
  },
  {
   "cell_type": "markdown",
   "id": "21a022f8-339f-4e24-9f68-8bb5d9a4ac75",
   "metadata": {},
   "source": [
    "### equal is not equivalent, but some obj in python is predefined and always the same "
   ]
  },
  {
   "cell_type": "code",
   "execution_count": 40,
   "id": "b02f7826-21be-4076-be7c-26dbe4d127f3",
   "metadata": {},
   "outputs": [
    {
     "name": "stdout",
     "output_type": "stream",
     "text": [
      "a == b True\n",
      "a is b True\n",
      "c == d True\n",
      "c is d False\n"
     ]
    }
   ],
   "source": [
    "a = 1\n",
    "b = 1\n",
    "c = 2**32\n",
    "d = 2**32\n",
    "print(f\"a == b {a == b}\")\n",
    "print(f\"a is b {a is b}\")\n",
    "print(f\"c == d {c == d}\")\n",
    "print(f\"c is d {c is d}\")"
   ]
  },
  {
   "cell_type": "markdown",
   "id": "7ba0feaa-b150-43b7-80dc-018cbf75290e",
   "metadata": {},
   "source": [
    "### boolean are int but not the same as predefined int i.e. 1 or 0"
   ]
  },
  {
   "cell_type": "code",
   "execution_count": 44,
   "id": "93b452f0-dc42-4dcd-b3f2-7a3dabae9a39",
   "metadata": {},
   "outputs": [
    {
     "name": "stdout",
     "output_type": "stream",
     "text": [
      "a == True True\n",
      "a is True False\n"
     ]
    }
   ],
   "source": [
    "a == 1\n",
    "print(f\"a == True {a == True}\")\n",
    "print(f\"a is True {a is True}\")"
   ]
  },
  {
   "cell_type": "markdown",
   "id": "4758b9b9-ad25-413e-825d-b8f5951c187c",
   "metadata": {},
   "source": [
    "### default definde parameters"
   ]
  },
  {
   "cell_type": "code",
   "execution_count": 2,
   "id": "be77e3bf-5342-4d75-bf60-b99ac312da7f",
   "metadata": {},
   "outputs": [
    {
     "name": "stdout",
     "output_type": "stream",
     "text": [
      "[1]\n",
      "[1, 2]\n",
      "[3]\n",
      "[4, 5]\n"
     ]
    }
   ],
   "source": [
    "def func(a, l=[]):\n",
    "    l.append(a)\n",
    "    return l\n",
    "\n",
    "print(func(1))\n",
    "print(func(2))\n",
    "print(func(3, []))\n",
    "print(func(5, [4]))"
   ]
  },
  {
   "cell_type": "markdown",
   "id": "45293eba-7002-4d19-85cf-00fa2b7a84c8",
   "metadata": {},
   "source": [
    "### leacking default to position args"
   ]
  },
  {
   "cell_type": "code",
   "execution_count": 21,
   "id": "f15ea612-3da9-4781-8edc-1db57526458e",
   "metadata": {},
   "outputs": [
    {
     "name": "stdout",
     "output_type": "stream",
     "text": [
      "a: 12 | b: 2 | c: 10 | d: 11\n",
      "a: 12 | b: 2 | c: 10 | d: 11\n"
     ]
    }
   ],
   "source": [
    "def func(c, d, a=1, b=2):\n",
    "    print(f\"a: {a} | b: {b} | c: {c} | d: {d}\")\n",
    "\n",
    "func(10, 11, 12)\n",
    "func(*[10, 11, 12])"
   ]
  },
  {
   "cell_type": "markdown",
   "id": "6d767a6a-df83-4360-9002-f060cf6e6a0a",
   "metadata": {},
   "source": [
    "### naming positioning args makes them key valued"
   ]
  },
  {
   "cell_type": "code",
   "execution_count": 19,
   "id": "6ff84a9a-3fcf-40bf-a5a2-0aa5e77fe3f7",
   "metadata": {},
   "outputs": [
    {
     "name": "stdout",
     "output_type": "stream",
     "text": [
      "a: 10 | b: 11 | c: 12 | d: 13\n"
     ]
    }
   ],
   "source": [
    "func(a=10, b=11, c=12, d=13)"
   ]
  },
  {
   "cell_type": "markdown",
   "id": "549941c7-0df3-4306-9788-8b09242ddab0",
   "metadata": {},
   "source": [
    "### leacking temp cycle vars outside cycle scope"
   ]
  },
  {
   "cell_type": "code",
   "execution_count": 7,
   "id": "56fdecdc-7a7b-4d82-87fa-90dafe468089",
   "metadata": {},
   "outputs": [
    {
     "name": "stdout",
     "output_type": "stream",
     "text": [
      "cycle i: 0\n",
      "cycle i: 1\n",
      "cycle i: 2\n",
      "ouside i: 2\n"
     ]
    }
   ],
   "source": [
    "for i in range(3):\n",
    "    print(f\"cycle i: {i}\")\n",
    "\n",
    "print(f\"ouside i: {i}\")"
   ]
  },
  {
   "cell_type": "markdown",
   "id": "0a36e9eb-a334-439f-a004-b93158ac3a48",
   "metadata": {},
   "source": [
    "### late binding"
   ]
  },
  {
   "cell_type": "code",
   "execution_count": 86,
   "id": "ed79a0aa-a6d1-41f3-ae63-46e5531722d4",
   "metadata": {},
   "outputs": [
    {
     "name": "stdout",
     "output_type": "stream",
     "text": [
      "expected: 0 | real: 4\n",
      "expected: 2 | real: 4\n",
      "expected: 4 | real: 4\n"
     ]
    }
   ],
   "source": [
    "def create_multipliers():\n",
    "    return [lambda x : i * x for i in range(3)]\n",
    "\n",
    "\n",
    "expected_result = [0, 2, 4]\n",
    "\n",
    "# 'i' that is in 'lambda x : i' is already calculated as 2 [final from 0,1,2] and this value will be binded with lambda \n",
    "for real, expected in zip(create_multipliers(), expected_result):\n",
    "    print(f\"expected: {expected} | real: {real(2)}\")"
   ]
  },
  {
   "cell_type": "markdown",
   "id": "bb68679f-fc92-431a-82aa-ea314842512c",
   "metadata": {},
   "source": [
    "### float calc accuracy *(it is not python problem but...)*"
   ]
  },
  {
   "cell_type": "code",
   "execution_count": 8,
   "id": "3fff4ce2-2bbb-4a83-a083-22487f7c23ba",
   "metadata": {},
   "outputs": [
    {
     "name": "stdout",
     "output_type": "stream",
     "text": [
      "0.9999999999999999\n"
     ]
    }
   ],
   "source": [
    "a = 0.0\n",
    "for i in range(10):\n",
    "    a += 0.1\n",
    "print(a)"
   ]
  },
  {
   "cell_type": "markdown",
   "id": "2c743088-e007-4a32-b20f-cf2c70ee22ba",
   "metadata": {},
   "source": [
    "### unpucking always makes list even it is not enough args for unpack"
   ]
  },
  {
   "cell_type": "code",
   "execution_count": 23,
   "id": "fe668b8c-5bab-494d-938e-467f37450de1",
   "metadata": {},
   "outputs": [
    {
     "name": "stdout",
     "output_type": "stream",
     "text": [
      "a: 1 | b: 2 | c: 3 | d: []\n"
     ]
    }
   ],
   "source": [
    "a, b, c, *d = [1, 2, 3]\n",
    "print(f\"a: {a} | b: {b} | c: {c} | d: {d}\")"
   ]
  },
  {
   "cell_type": "markdown",
   "id": "c400263e-3bc7-4eed-944d-be8e833e8fda",
   "metadata": {},
   "source": [
    "### truncking list"
   ]
  },
  {
   "cell_type": "code",
   "execution_count": 61,
   "id": "e8906c58-9f3a-48f8-94bc-0be7f18852f9",
   "metadata": {},
   "outputs": [
    {
     "name": "stdout",
     "output_type": "stream",
     "text": [
      "[1, 2, 3]\n"
     ]
    }
   ],
   "source": [
    "a = [1, 2, 3, 4, 5]\n",
    "a[:] = a[:3]\n",
    "print(a)"
   ]
  },
  {
   "cell_type": "markdown",
   "id": "fd0eddd4-b649-4553-b463-1f6b1fca0072",
   "metadata": {},
   "source": [
    "#### swapping and truncking list with *[part of]* another one"
   ]
  },
  {
   "cell_type": "code",
   "execution_count": 73,
   "id": "b64c627b-33cf-4563-b4a3-abd5d456e136",
   "metadata": {},
   "outputs": [
    {
     "name": "stdout",
     "output_type": "stream",
     "text": [
      "[11, 12]\n"
     ]
    }
   ],
   "source": [
    "a = [1, 2, 3, 4, 5]\n",
    "b = [10, 11, 12, 13]\n",
    "a[:] = b[1:-1]\n",
    "print(a)"
   ]
  },
  {
   "cell_type": "markdown",
   "id": "83938126-097d-4bfc-a57f-dae94a8ef4dc",
   "metadata": {},
   "source": [
    "### generators are exhaustible but embedded collection iterators are not\n",
    "```\n",
    "this is quite strange they use iterators and generator therms in python\n",
    "it seems they just use iterator's interfaces to generators\n",
    "generator is that creates value it can not be exhaustible by its nature, but it does in python especially for comprehension\n",
    "embedded collections like list have unexhaustible iterators\n",
    "```"
   ]
  },
  {
   "cell_type": "code",
   "execution_count": 95,
   "id": "63773774-72e6-4b66-96ba-e59f43114fe4",
   "metadata": {},
   "outputs": [
    {
     "name": "stdout",
     "output_type": "stream",
     "text": [
      "1st list cycle i: 1\n",
      "1st list cycle i: 2\n",
      "1st list cycle i: 3\n",
      "2nd list cycle i: 1\n",
      "2nd list cycle i: 2\n",
      "2nd list cycle i: 3\n",
      "1st generator cycle i: 1\n",
      "1st generator cycle i: 2\n",
      "1st generator cycle i: 3\n",
      "empty generator!\n",
      "1st iterator from list cycle i: 1\n",
      "1st iterator from list cycle i: 2\n",
      "1st iterator from list cycle i: 3\n",
      "empty iterator from list!\n"
     ]
    }
   ],
   "source": [
    "# embedded collections are unexhaustible iterators\n",
    "l = [1, 2, 3]\n",
    "for i in l:\n",
    "    print(f\"1st list cycle i: {i}\")\n",
    "\n",
    "for i in l:\n",
    "    print(f\"2nd list cycle i: {i}\")\n",
    "\n",
    "# generator comprehensions are exhaustible but this means it is not generators it is iterators then\n",
    "g = (i for i in range(1, 4))\n",
    "\n",
    "for i in g:\n",
    "    print(f\"1st generator cycle i: {i}\")\n",
    "\n",
    "for i in g:\n",
    "    print(f\"2nd generator cycle i: {i}\")\n",
    "else:\n",
    "    print(\"empty generator!\")\n",
    "\n",
    "# iterator from list are exhaustible as it should be\n",
    "il = iter(l)\n",
    "\n",
    "for i in il:\n",
    "    print(f\"1st iterator from list cycle i: {i}\")\n",
    "\n",
    "for i in il:\n",
    "    print(f\"2nd iterator list cycle i: {i}\")\n",
    "else:\n",
    "    print(\"empty iterator from list!\")"
   ]
  },
  {
   "cell_type": "markdown",
   "id": "929c02ad-b72d-41de-bebb-bcae46a0ca66",
   "metadata": {},
   "source": [
    "### bool operators does have priorities. Use () in order to be on the safe side!"
   ]
  },
  {
   "cell_type": "code",
   "execution_count": 98,
   "id": "dc3d2e0c-00a6-4783-bf75-649daefb6668",
   "metadata": {},
   "outputs": [
    {
     "name": "stdout",
     "output_type": "stream",
     "text": [
      "True or True and False: True | expected False\n",
      "True or (True and False): True | expected True\n",
      "(True or True) and False: False | expected False\n"
     ]
    }
   ],
   "source": [
    "print(f\"True or True and False: {True or True and False} | expected False\")\n",
    "print(f\"True or (True and False): {True or (True and False)} | expected True\")\n",
    "print(f\"(True or True) and False: {(True or True) and False} | expected False\")"
   ]
  },
  {
   "cell_type": "markdown",
   "id": "0d30ff44-3281-4ae1-b9ad-94240cd8d16d",
   "metadata": {},
   "source": [
    "### implisit type casting"
   ]
  },
  {
   "cell_type": "code",
   "execution_count": 103,
   "id": "d15b2d52-bf1d-4bea-8341-078cbba214e5",
   "metadata": {},
   "outputs": [
    {
     "name": "stdout",
     "output_type": "stream",
     "text": [
      "0.9999999999999999\n"
     ]
    }
   ],
   "source": [
    "def a_divide_b(a, b):\n",
    "    return a/b\n",
    "\n",
    "# you give to func bool and int and it returns float \n",
    "print(sum(a_divide_b(True, 10) for _ in range(10)))"
   ]
  },
  {
   "cell_type": "markdown",
   "id": "58c5343d-e995-4846-b170-6c50a95f9a07",
   "metadata": {},
   "source": [
    "### in complex cases with diamond inheritance MRO calls method if one exist in parent class first but it does not call method of parent if it called super method of its parent instead it calls next parent method\n",
    "```\n",
    "A->B\n",
    "   |->D\n",
    "A->C\n",
    "\n",
    "D.m() ==> B.m()\n",
    "if B.m() contains super().m() `that calls A.m()` then\n",
    "  MRO tries to check other parents in this case it is C.m() and calls it first\n",
    "but if B.m() contains something in B.m() before/after super().m() it is also called\n",
    "```"
   ]
  },
  {
   "cell_type": "code",
   "execution_count": 78,
   "id": "c9b33088-4384-4fb6-8709-f18560bc4564",
   "metadata": {},
   "outputs": [
    {
     "name": "stdout",
     "output_type": "stream",
     "text": [
      "(<class '__main__.D'>, <class '__main__.B'>, <class '__main__.C'>, <class '__main__.A'>, <class 'object'>)\n",
      "B\n"
     ]
    }
   ],
   "source": [
    "class A:\n",
    "    def method(self):\n",
    "        print(\"A\")\n",
    "class B(A):\n",
    "    def method(self):\n",
    "        print(\"B\")\n",
    "class C(A):\n",
    "    def method(self):\n",
    "        print(\"C\")\n",
    "\n",
    "class D(B, C):\n",
    "    def method(self):\n",
    "        super().method()\n",
    "\n",
    "d = D()\n",
    "print(D.__mro__)\n",
    "d.method()"
   ]
  },
  {
   "cell_type": "code",
   "execution_count": 48,
   "id": "56bc20e1-148a-47d9-8cd8-1406fdf91544",
   "metadata": {},
   "outputs": [
    {
     "name": "stdout",
     "output_type": "stream",
     "text": [
      "C\n"
     ]
    }
   ],
   "source": [
    "class A:\n",
    "    def method(self):\n",
    "        print(\"A\")\n",
    "class B(A):\n",
    "    def method(self):\n",
    "        # there is call of super method\n",
    "        super().method()\n",
    "class C(A):\n",
    "    def method(self):\n",
    "        print(\"C\")\n",
    "\n",
    "class D(B, C):\n",
    "    def method(self):\n",
    "        super().method()\n",
    "\n",
    "d = D()\n",
    "d.method()"
   ]
  },
  {
   "cell_type": "code",
   "execution_count": 57,
   "id": "d2b30067-0b3c-4204-9f0a-954d1e31e25a",
   "metadata": {},
   "outputs": [
    {
     "name": "stdout",
     "output_type": "stream",
     "text": [
      "before super() in B\n",
      "C\n",
      "after super() in B\n"
     ]
    }
   ],
   "source": [
    "class A:\n",
    "    def method(self):\n",
    "        print(\"A\")\n",
    "class B(A):\n",
    "    def method(self):\n",
    "        # there is call something before super method\n",
    "        print(\"before super() in B\")\n",
    "        # there is call of super method\n",
    "        super().method()\n",
    "        # there is call of rest method's code\n",
    "        print(\"after super() in B\")\n",
    "class C(A):\n",
    "    def method(self):\n",
    "        print(\"C\")\n",
    "\n",
    "class D(B, C):\n",
    "    def method(self):\n",
    "        super().method()\n",
    "\n",
    "d = D()\n",
    "d.method()"
   ]
  },
  {
   "cell_type": "markdown",
   "id": "e09ac018-5817-4e75-99a1-4c2aaab5dbbd",
   "metadata": {},
   "source": [
    "#### this does not happen in case of simple multiply inherence, MRO just calls parent method\n",
    "```\n",
    "A->B\n",
    "   |->D\n",
    "   C\n",
    "```"
   ]
  },
  {
   "cell_type": "code",
   "execution_count": 76,
   "id": "2493ef78-091d-461f-b496-bed4a968753c",
   "metadata": {},
   "outputs": [
    {
     "name": "stdout",
     "output_type": "stream",
     "text": [
      "before super() in B\n",
      "A\n",
      "after super() in B\n"
     ]
    }
   ],
   "source": [
    "class A:\n",
    "    def method(self):\n",
    "        print(\"A\")\n",
    "class B(A):\n",
    "    def method(self):\n",
    "        # there is call something before super method\n",
    "        print(\"before super() in B\")\n",
    "        # there is call of super method\n",
    "        super().method()\n",
    "        # there is call of rest method's code\n",
    "        print(\"after super() in B\")\n",
    "class C():\n",
    "    def method(self):\n",
    "        print(\"C\")\n",
    "\n",
    "class D(B, C):\n",
    "    def method(self):\n",
    "        super().method()\n",
    "\n",
    "d = D()\n",
    "d.method()"
   ]
  }
 ],
 "metadata": {
  "kernelspec": {
   "display_name": "Python 3 (ipykernel)",
   "language": "python",
   "name": "python3"
  },
  "language_info": {
   "codemirror_mode": {
    "name": "ipython",
    "version": 3
   },
   "file_extension": ".py",
   "mimetype": "text/x-python",
   "name": "python",
   "nbconvert_exporter": "python",
   "pygments_lexer": "ipython3",
   "version": "3.11.3"
  }
 },
 "nbformat": 4,
 "nbformat_minor": 5
}
